{
 "cells": [
  {
   "cell_type": "code",
   "execution_count": 7,
   "metadata": {},
   "outputs": [
    {
     "name": "stdout",
     "output_type": "stream",
     "text": [
      "tensor([[0.2993, 0.7927, 0.0399],\n",
      "        [0.5991, 0.2903, 0.0219],\n",
      "        [0.3303, 0.9351, 0.8346],\n",
      "        [0.0753, 0.0731, 0.6278],\n",
      "        [0.6557, 0.8932, 0.4123]])\n"
     ]
    }
   ],
   "source": [
    "import torch\n",
    "x = torch.rand(5, 3)\n",
    "print(x)"
   ]
  },
  {
   "cell_type": "code",
   "execution_count": 8,
   "metadata": {},
   "outputs": [
    {
     "data": {
      "text/plain": [
       "True"
      ]
     },
     "execution_count": 8,
     "metadata": {},
     "output_type": "execute_result"
    }
   ],
   "source": [
    "torch.cuda.is_available()"
   ]
  },
  {
   "cell_type": "code",
   "execution_count": 9,
   "metadata": {},
   "outputs": [],
   "source": [
    "import torch\n",
    "from torch import nn\n",
    "from torch.utils.data import DataLoader\n",
    "from torchvision import datasets\n",
    "from torchvision.transforms import ToTensor"
   ]
  },
  {
   "cell_type": "code",
   "execution_count": 10,
   "metadata": {},
   "outputs": [],
   "source": [
    "# Download training data from open datasets.\n",
    "\n",
    "training_data = datasets.FashionMNIST(\n",
    "  root = \"data\",\n",
    "  train = True,\n",
    "  download = True,\n",
    "  transform = ToTensor(),\n",
    ")\n",
    "\n",
    "test_data = datasets.FashionMNIST(\n",
    "  root = 'data',\n",
    "  train = False,\n",
    "  download = True,\n",
    "  transform = ToTensor()\n",
    ")"
   ]
  },
  {
   "cell_type": "code",
   "execution_count": 11,
   "metadata": {},
   "outputs": [
    {
     "name": "stdout",
     "output_type": "stream",
     "text": [
      "Using cuda device\n",
      "NeuralNetwork(\n",
      "  (flatten): Flatten(start_dim=1, end_dim=-1)\n",
      "  (linear_relu_stack): Sequential(\n",
      "    (0): Linear(in_features=784, out_features=512, bias=True)\n",
      "    (1): ReLU()\n",
      "    (2): Linear(in_features=512, out_features=512, bias=True)\n",
      "    (3): ReLU()\n",
      "    (4): Linear(in_features=512, out_features=10, bias=True)\n",
      "  )\n",
      ")\n"
     ]
    }
   ],
   "source": [
    "# Get cpu, gpu or mps device for training.\n",
    "device = (\n",
    "    \"cuda\"\n",
    "    if torch.cuda.is_available()\n",
    "    else \"mps\"\n",
    "    if torch.backends.mps.is_available()\n",
    "    else \"cpu\"\n",
    ")\n",
    "\n",
    "print(f\"Using {device} device\")\n",
    "\n",
    "# Define model\n",
    "class NeuralNetwork(nn.Module):\n",
    "  def __init__(self):\n",
    "    super().__init__()\n",
    "    self.flatten = nn.Flatten()\n",
    "    self.linear_relu_stack = nn.Sequential(\n",
    "        nn.Linear(28 * 28, 512),\n",
    "        nn.ReLU(),\n",
    "        nn.Linear(512, 512),\n",
    "        nn.ReLU(),\n",
    "        nn.Linear(512, 10)\n",
    "    )\n",
    "\n",
    "  def forward(self, x):\n",
    "    x = self.flatten(x)\n",
    "    logits = self.linear_relu_stack(x)\n",
    "    return logits\n",
    "\n",
    "model = NeuralNetwork().to(device)\n",
    "print(model)"
   ]
  },
  {
   "cell_type": "code",
   "execution_count": 12,
   "metadata": {},
   "outputs": [
    {
     "name": "stdout",
     "output_type": "stream",
     "text": [
      "Shape of X [N, C, H, W]: torch.Size([65, 1, 28, 28])\n",
      "Shape of y : torch.Size([65]) torch.int64\n"
     ]
    }
   ],
   "source": [
    "batch_size = 65\n",
    "\n",
    "train_dataloader = DataLoader(training_data, batch_size = batch_size)\n",
    "test_dataloader = DataLoader(test_data, batch_size = batch_size)\n",
    "\n",
    "for X, y in test_dataloader:\n",
    "  print(f\"Shape of X [N, C, H, W]: {X.shape}\")\n",
    "  print(f\"Shape of y : {y.shape} {y.dtype}\")\n",
    "  break"
   ]
  },
  {
   "cell_type": "code",
   "execution_count": 13,
   "metadata": {},
   "outputs": [],
   "source": [
    "loss_fn = nn.CrossEntropyLoss()\n",
    "optimizer = torch.optim.SGD(model.parameters(), lr = 1e-3)"
   ]
  },
  {
   "cell_type": "code",
   "execution_count": 14,
   "metadata": {},
   "outputs": [],
   "source": [
    "def train(dataloader, model, loss_fn, optimizer):\n",
    "  size = len(dataloader.dataset)\n",
    "  model.train()\n",
    "  \n",
    "  for batch, (X, y) in enumerate(dataloader):\n",
    "    X, y = X.to(device), y.to(device)\n",
    "\n",
    "    # Compute prediction error\n",
    "    pred = model(X)\n",
    "    loss = loss_fn(pred, y)\n",
    "\n",
    "    # Backpropagation\n",
    "    loss.backward()\n",
    "    optimizer.step()\n",
    "    optimizer.zero_grad()\n",
    "\n",
    "    if batch % 100 == 0:\n",
    "      loss, current = loss.item(), (batch + 1) * len(X)\n",
    "      print(f\"loss : {loss:>7f} [{current:>5d}/{size:>5d}]\")"
   ]
  },
  {
   "cell_type": "code",
   "execution_count": 15,
   "metadata": {},
   "outputs": [],
   "source": [
    "def test(dataloader, model, loss_fn):\n",
    "  size = len(dataloader.dataset)\n",
    "  num_batches = len(dataloader)\n",
    "  model.eval()\n",
    "  test_loss, correct = 0, 0\n",
    "\n",
    "  with torch.no_grad():\n",
    "    for X, y in dataloader:\n",
    "      X, y = X.to(device), y.to(device)\n",
    "      pred = model(X)\n",
    "      test_loss += loss_fn(pred, y).item()\n",
    "      correct += (pred.argmax(1) == y).type(torch.float).sum().item()\n",
    "\n",
    "  test_loss /= num_batches\n",
    "  correct /= size\n",
    "  print(f\"Test Error : \\n Accuracy: {(100 * correct): > 0.1f}%, Avg loss: {test_loss:>8f} \\n\")"
   ]
  },
  {
   "cell_type": "code",
   "execution_count": 16,
   "metadata": {},
   "outputs": [
    {
     "name": "stdout",
     "output_type": "stream",
     "text": [
      "Epoch 1\n",
      "-------------------------\n",
      "loss : 2.303112 [   65/60000]\n",
      "loss : 2.297929 [ 6565/60000]\n",
      "loss : 2.277251 [13065/60000]\n",
      "loss : 2.265115 [19565/60000]\n",
      "loss : 2.248604 [26065/60000]\n",
      "loss : 2.241732 [32565/60000]\n",
      "loss : 2.200700 [39065/60000]\n",
      "loss : 2.189298 [45565/60000]\n",
      "loss : 2.203624 [52065/60000]\n",
      "loss : 2.177153 [58565/60000]\n",
      "Test Error : \n",
      " Accuracy:  49.4%, Avg loss: 2.165886 \n",
      "\n",
      "Epoch 2\n",
      "-------------------------\n",
      "loss : 2.177180 [   65/60000]\n",
      "loss : 2.154975 [ 6565/60000]\n",
      "loss : 2.125274 [13065/60000]\n",
      "loss : 2.097500 [19565/60000]\n",
      "loss : 2.064606 [26065/60000]\n",
      "loss : 2.064873 [32565/60000]\n",
      "loss : 1.969805 [39065/60000]\n",
      "loss : 1.944425 [45565/60000]\n",
      "loss : 1.977931 [52065/60000]\n",
      "loss : 1.929361 [58565/60000]\n",
      "Test Error : \n",
      " Accuracy:  54.8%, Avg loss: 1.910609 \n",
      "\n",
      "Epoch 3\n",
      "-------------------------\n",
      "loss : 1.945406 [   65/60000]\n",
      "loss : 1.883592 [ 6565/60000]\n",
      "loss : 1.818695 [13065/60000]\n",
      "loss : 1.780397 [19565/60000]\n",
      "loss : 1.753278 [26065/60000]\n",
      "loss : 1.732255 [32565/60000]\n",
      "loss : 1.602226 [39065/60000]\n",
      "loss : 1.543217 [45565/60000]\n",
      "loss : 1.609128 [52065/60000]\n",
      "loss : 1.536606 [58565/60000]\n",
      "Test Error : \n",
      " Accuracy:  60.5%, Avg loss: 1.544437 \n",
      "\n",
      "Epoch 4\n",
      "-------------------------\n",
      "loss : 1.612120 [   65/60000]\n",
      "loss : 1.514117 [ 6565/60000]\n",
      "loss : 1.411224 [13065/60000]\n",
      "loss : 1.411949 [19565/60000]\n",
      "loss : 1.429420 [26065/60000]\n",
      "loss : 1.376420 [32565/60000]\n",
      "loss : 1.284369 [39065/60000]\n",
      "loss : 1.203635 [45565/60000]\n",
      "loss : 1.301948 [52065/60000]\n",
      "loss : 1.214108 [58565/60000]\n",
      "Test Error : \n",
      " Accuracy:  63.5%, Avg loss: 1.265928 \n",
      "\n",
      "Epoch 5\n",
      "-------------------------\n",
      "loss : 1.341276 [   65/60000]\n",
      "loss : 1.255773 [ 6565/60000]\n",
      "loss : 1.111769 [13065/60000]\n",
      "loss : 1.162170 [19565/60000]\n",
      "loss : 1.207976 [26065/60000]\n",
      "loss : 1.132471 [32565/60000]\n",
      "loss : 1.078358 [39065/60000]\n",
      "loss : 1.000643 [45565/60000]\n",
      "loss : 1.105934 [52065/60000]\n",
      "loss : 1.005801 [58565/60000]\n",
      "Test Error : \n",
      " Accuracy:  64.8%, Avg loss: 1.093948 \n",
      "\n",
      "Done\n"
     ]
    }
   ],
   "source": [
    "epochs = 5\n",
    "\n",
    "for t in range(epochs):\n",
    "  print(f\"Epoch {t + 1}\\n-------------------------\")\n",
    "  train(train_dataloader, model, loss_fn, optimizer)\n",
    "  test(test_dataloader, model, loss_fn)\n",
    "\n",
    "print('Done')"
   ]
  },
  {
   "cell_type": "code",
   "execution_count": 17,
   "metadata": {},
   "outputs": [
    {
     "name": "stdout",
     "output_type": "stream",
     "text": [
      "Saved PyTorch Model State to model.pth\n"
     ]
    }
   ],
   "source": [
    "torch.save(model.state_dict(), \"model.pth\")\n",
    "print(\"Saved PyTorch Model State to model.pth\")"
   ]
  },
  {
   "cell_type": "code",
   "execution_count": 18,
   "metadata": {},
   "outputs": [
    {
     "data": {
      "text/plain": [
       "<All keys matched successfully>"
      ]
     },
     "execution_count": 18,
     "metadata": {},
     "output_type": "execute_result"
    }
   ],
   "source": [
    "model = NeuralNetwork().to(device)\n",
    "\n",
    "model.load_state_dict(torch.load(\"model.pth\"))"
   ]
  },
  {
   "cell_type": "code",
   "execution_count": 19,
   "metadata": {},
   "outputs": [
    {
     "name": "stdout",
     "output_type": "stream",
     "text": [
      "Predicted: Ankle boot, Actual: Ankle boot\n"
     ]
    }
   ],
   "source": [
    "classes = [\n",
    "    \"T-shirt/top\",\n",
    "    \"Trouser\",\n",
    "    \"Pullover\",\n",
    "    \"Dress\",\n",
    "    \"Coat\",\n",
    "    \"Sandal\",\n",
    "    \"Shirt\",\n",
    "    \"Sneaker\",\n",
    "    \"Bag\",\n",
    "    \"Ankle boot\"\n",
    "]\n",
    "\n",
    "model.eval()\n",
    "\n",
    "x, y = test_data[0][0], test_data[0][1]\n",
    "\n",
    "with torch.no_grad():\n",
    "  x = x.to(device)\n",
    "  pred = model(x)\n",
    "  predicted, actual = classes[pred[0].argmax(0)], classes[y]\n",
    "  print(f\"Predicted: {predicted}, Actual: {actual}\")"
   ]
  },
  {
   "cell_type": "code",
   "execution_count": 24,
   "metadata": {},
   "outputs": [
    {
     "data": {
      "image/png": "[encoded data removed]",
      "text/plain": [
       "<Figure size 800x800 with 9 Axes>"
      ]
     },
     "metadata": {},
     "output_type": "display_data"
    }
   ],
   "source": []
  },
  {
   "cell_type": "code",
   "execution_count": null,
   "metadata": {},
   "outputs": [],
   "source": []
  }
 ],
 "metadata": {
  "kernelspec": {
   "display_name": "Python 3",
   "language": "python",
   "name": "python3"
  },
  "language_info": {
   "codemirror_mode": {
    "name": "ipython",
    "version": 3
   },
   "file_extension": ".py",
   "mimetype": "text/x-python",
   "name": "python",
   "nbconvert_exporter": "python",
   "pygments_lexer": "ipython3",
   "version": "3.9.13"
  },
  "orig_nbformat": 4
 },
 "nbformat": 4,
 "nbformat_minor": 2
}
